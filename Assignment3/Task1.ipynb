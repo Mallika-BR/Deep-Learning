{
 "cells": [
  {
   "cell_type": "markdown",
   "id": "4ef20138",
   "metadata": {},
   "source": [
    "Task 1 : Character level Vanilla RNN"
   ]
  },
  {
   "cell_type": "code",
   "execution_count": 1,
   "id": "066af548",
   "metadata": {},
   "outputs": [],
   "source": [
    "import csv\n",
    "import itertools\n",
    "import operator\n",
    "import numpy as np\n",
    "import nltk\n",
    "import sys\n",
    "from datetime import datetime\n",
    "\n",
    "import matplotlib.pyplot as plt"
   ]
  },
  {
   "cell_type": "code",
   "execution_count": 2,
   "id": "c6837946",
   "metadata": {},
   "outputs": [],
   "source": [
    "#Reading the 3 text files\n",
    "\n",
    "file = open(\"Text1.txt\",\"r\")\n",
    "if(file.mode == \"r\"):\n",
    "    text1 = file.read()\n",
    "file.close()\n",
    "\n",
    "file = open(\"Text2.txt\",\"r\")\n",
    "if(file.mode == \"r\"):\n",
    "    text2 = file.read()\n",
    "file.close()\n",
    "\n",
    "file = open(\"Text3.txt\",\"r\")\n",
    "if(file.mode == \"r\"):\n",
    "    text3 = file.read()\n",
    "file.close()"
   ]
  },
  {
   "cell_type": "code",
   "execution_count": 3,
   "id": "10a55bb7",
   "metadata": {},
   "outputs": [],
   "source": [
    "#Concatenating the 3 texts\n",
    "data = text1+text2+text3\n",
    "\n",
    "#Converting upper case to lower case\n",
    "data = data.lower()"
   ]
  },
  {
   "cell_type": "code",
   "execution_count": 4,
   "id": "654c9595",
   "metadata": {},
   "outputs": [],
   "source": [
    "#Building char_to_index and index_to_char vectors.\n",
    "\n",
    "characters = list(set(data))\n",
    "char_to_index = {ch:i for i,ch in enumerate(characters)}\n",
    "index_to_char = {i:ch for i,ch in enumerate(characters)}"
   ]
  },
  {
   "cell_type": "code",
   "execution_count": 5,
   "id": "00403454",
   "metadata": {},
   "outputs": [],
   "source": [
    "#Splitting the data into characters\n",
    "\n",
    "def split(word): \n",
    "    return [char for char in word]\n",
    "\n",
    "data = split(data)\n",
    "\n",
    "#Changing all the characters into indices using the char_to_index vector\n",
    "\n",
    "for ch in range(len(data)):\n",
    "    data[ch] = char_to_index[data[ch]]\n",
    "    "
   ]
  },
  {
   "cell_type": "code",
   "execution_count": 6,
   "id": "1e26f16b",
   "metadata": {},
   "outputs": [],
   "source": [
    "#Splitting the entire data into lists of 20 characters each.\n",
    "\n",
    "x = []\n",
    "c = []\n",
    "for i in range(len(data)):\n",
    "    if i%20==0:\n",
    "        x.append(c)\n",
    "        c = []\n",
    "    else:\n",
    "        c.append(data[i])\n",
    "x.remove(x[0])"
   ]
  },
  {
   "cell_type": "code",
   "execution_count": 7,
   "id": "4cf9ea18",
   "metadata": {},
   "outputs": [],
   "source": [
    "#Splitting the entire data in lists of 20 characters each and create the training data y.\n",
    "\n",
    "last_char = data[0] \n",
    "data.remove(data[0])\n",
    "\n",
    "y = []\n",
    "c =[]\n",
    "for i in range(len(data)):\n",
    "    if i%20==0:\n",
    "        y.append(c)\n",
    "        c = []\n",
    "    else:\n",
    "        c.append(data[i])\n",
    "        \n",
    "y.remove(y[0])\n",
    "y[-1].append(last_char)\n",
    "data.append(last_char)"
   ]
  },
  {
   "cell_type": "code",
   "execution_count": 8,
   "id": "19490786",
   "metadata": {},
   "outputs": [],
   "source": [
    "#Defining the vocabulary size as the number of unique characters in the data.\n",
    "\n",
    "vocabulary_size = 76"
   ]
  },
  {
   "cell_type": "code",
   "execution_count": 9,
   "id": "75533181",
   "metadata": {},
   "outputs": [],
   "source": [
    "class RNNVanilla:\n",
    "     \n",
    "    def __init__(self, word_dim, hidden_dim=100, bptt_truncate=10):\n",
    "        \n",
    "        # Assign instance variables\n",
    "        self.word_dim = word_dim   #size of the vocabulary\n",
    "        self.hidden_dim = hidden_dim  # size of hidden layer\n",
    "        self.bptt_truncate = bptt_truncate\n",
    "        \n",
    "        # Randomly initialize the network parameters\n",
    "        self.U = np.random.uniform(-np.sqrt(1./word_dim), np.sqrt(1./word_dim), (hidden_dim, word_dim))\n",
    "        self.V = np.random.uniform(-np.sqrt(1./hidden_dim), np.sqrt(1./hidden_dim), (word_dim, hidden_dim))\n",
    "        self.W = np.random.uniform(-np.sqrt(1./hidden_dim), np.sqrt(1./hidden_dim), (hidden_dim, hidden_dim))\n"
   ]
  },
  {
   "cell_type": "code",
   "execution_count": 10,
   "id": "d0fac0a9",
   "metadata": {},
   "outputs": [],
   "source": [
    "def softmax(x):\n",
    "    xt = np.exp(x - np.max(x))\n",
    "    return xt / np.sum(xt)"
   ]
  },
  {
   "cell_type": "code",
   "execution_count": 11,
   "id": "10b500f6",
   "metadata": {},
   "outputs": [],
   "source": [
    "def forward_propagation(self, x):\n",
    "    # The total number of time steps\n",
    "    T = len(x)\n",
    "        \n",
    "    # During forward propagation we save all hidden states in s because need them later.\n",
    "        \n",
    "    # We add one additional element for the initial hidden, which we set to 0\n",
    "    s = np.zeros((T + 1, self.hidden_dim))\n",
    "    s[-1] = np.zeros(self.hidden_dim)\n",
    "        \n",
    "    # The outputs at each time step. Again, we save them for later.\n",
    "    o = np.zeros((T, self.word_dim))\n",
    "        \n",
    "    # For each time step...\n",
    "    for t in np.arange(T):\n",
    "        # Note that we are indxing U by x[t]. This is the same as multiplying U with a one-hot vector.\n",
    "        s[t] = np.tanh(self.U[:,x[t]] + self.W.dot(s[t-1]))\n",
    "        o[t] = softmax(self.V.dot(s[t]))\n",
    "    return [o, s]  #We not only return the calculated outputs, but also the hidden states. \n",
    "                   #We will use them later to calculate the gradients\n",
    "\n",
    "#Now make it a member of the class RNNVanilla\n",
    "RNNVanilla.forward_propagation = forward_propagation"
   ]
  },
  {
   "cell_type": "code",
   "execution_count": 12,
   "id": "7706ce73",
   "metadata": {},
   "outputs": [],
   "source": [
    "def predict(self, x):\n",
    "    # Perform forward propagation and return index of the highest score\n",
    "    o, s = self.forward_propagation(x)\n",
    "    return np.argmax(o, axis=1)\n",
    "\n",
    "#Now make it a member of the class RNNVanilla\n",
    "RNNVanilla.predict = predict"
   ]
  },
  {
   "cell_type": "code",
   "execution_count": 13,
   "id": "0853214d",
   "metadata": {},
   "outputs": [],
   "source": [
    "def calculate_total_loss(self, x, y):\n",
    "    L = 0\n",
    "    \n",
    "    # For each sentence...\n",
    "    for i in np.arange(len(y)):\n",
    "        o, s = self.forward_propagation(x[i])\n",
    "        \n",
    "        # We only care about our prediction of the \"correct\" words\n",
    "        correct_word_predictions = o[np.arange(len(y[i])), y[i]]\n",
    "        \n",
    "        # Add to the loss based on how off we were\n",
    "        L += -1 * sum(np.log(correct_word_predictions))\n",
    "    return L\n",
    " \n",
    "def calculate_loss(self, x, y):\n",
    "    # Divide the total loss by the number of training examples\n",
    "    N = sum((len(y_i) for y_i in y))\n",
    "    return self.calculate_total_loss(x,y)/N\n",
    " \n",
    "RNNVanilla.calculate_total_loss = calculate_total_loss\n",
    "RNNVanilla.calculate_loss = calculate_loss"
   ]
  },
  {
   "cell_type": "code",
   "execution_count": 14,
   "id": "7d9decb3",
   "metadata": {},
   "outputs": [],
   "source": [
    "def bptt(self, x, y):\n",
    "    T = len(y)\n",
    "    # Perform forward propagation\n",
    "    o, s = self.forward_propagation(x)\n",
    "    # We accumulate the gradients in these variables\n",
    "    dLdU = np.zeros(self.U.shape)\n",
    "    dLdV = np.zeros(self.V.shape)\n",
    "    dLdW = np.zeros(self.W.shape)\n",
    "    delta_o = o\n",
    "    delta_o[np.arange(len(y)), y] -= 1.\n",
    "    # For each output backwards...\n",
    "    for t in np.arange(T)[::-1]:\n",
    "        dLdV += np.outer(delta_o[t], s[t].T)\n",
    "        \n",
    "        # Initial delta calculation\n",
    "        delta_t = self.V.T.dot(delta_o[t]) * (1 - (s[t] ** 2))\n",
    "        \n",
    "        # Backpropagation through time (for at most self.bptt_truncate steps)\n",
    "        for bptt_step in np.arange(max(0, t-self.bptt_truncate), t+1)[::-1]:\n",
    "            \n",
    "            # print \"Backpropagation step t=%d bptt step=%d \" % (t, bptt_step)\n",
    "            dLdW += np.outer(delta_t, s[bptt_step-1])              \n",
    "            dLdU[:,x[bptt_step]] += delta_t\n",
    "            \n",
    "            # Update delta for next step\n",
    "            delta_t = self.W.T.dot(delta_t) * (1 - s[bptt_step-1] ** 2)\n",
    "    return [dLdU, dLdV, dLdW]\n",
    " \n",
    "RNNVanilla.bptt = bptt"
   ]
  },
  {
   "cell_type": "code",
   "execution_count": 15,
   "id": "7c81d597",
   "metadata": {},
   "outputs": [],
   "source": [
    "def gradient_check(self, x, y, h=0.001, error_threshold=0.01):\n",
    "    # Calculate the gradients using backpropagation. We want to checker if these are correct.\n",
    "    bptt_gradients = self.bptt(x, y)\n",
    "    \n",
    "    # List of all parameters we want to check.\n",
    "    model_parameters = ['U', 'V', 'W']\n",
    "    \n",
    "    # Gradient check for each parameter\n",
    "    for pidx, pname in enumerate(model_parameters):\n",
    "        # Get the actual parameter value from the mode, e.g. model.W\n",
    "        parameter = operator.attrgetter(pname)(self)\n",
    "        print (\"Performing gradient check for parameter %s with size %d.\" % (pname, np.prod(parameter.shape)))\n",
    "        # Iterate over each element of the parameter matrix, e.g. (0,0), (0,1), ...\n",
    "        it = np.nditer(parameter, flags=['multi_index'], op_flags=['readwrite'])\n",
    "        while not it.finished:\n",
    "            ix = it.multi_index\n",
    "            # Save the original value so we can reset it later\n",
    "            original_value = parameter[ix]\n",
    "            # Estimate the gradient using (f(x+h) - f(x-h))/(2*h)\n",
    "            parameter[ix] = original_value + h\n",
    "            gradplus = self.calculate_total_loss([x],[y])\n",
    "            parameter[ix] = original_value - h\n",
    "            gradminus = self.calculate_total_loss([x],[y])\n",
    "            estimated_gradient = (gradplus - gradminus)/(2*h)\n",
    "            # Reset parameter to original value\n",
    "            parameter[ix] = original_value\n",
    "            # The gradient for this parameter calculated using backpropagation\n",
    "            backprop_gradient = bptt_gradients[pidx][ix]\n",
    "            # calculate The relative error: (|x - y|/(|x| + |y|))\n",
    "            relative_error = np.abs(backprop_gradient - estimated_gradient)/(np.abs(backprop_gradient) + np.abs(estimated_gradient))\n",
    "            # If the error is to large fail the gradient check\n",
    "            if relative_error > error_threshold:\n",
    "                print (\"Gradient Check ERROR: parameter=%s ix=%s\" % (pname, ix))\n",
    "                print (\"+h Loss: %f\" % gradplus)\n",
    "                print (\"-h Loss: %f\" % gradminus)\n",
    "                print (\"Estimated_gradient: %f\" % estimated_gradient)\n",
    "                print (\"Backpropagation gradient: %f\" % backprop_gradient)\n",
    "                print (\"Relative Error: %f\" % relative_error)\n",
    "                return\n",
    "            it.iternext()\n",
    "        print (\"Gradient check for parameter %s passed.\" % (pname))\n",
    " \n",
    "RNNVanilla.gradient_check = gradient_check"
   ]
  },
  {
   "cell_type": "code",
   "execution_count": 16,
   "id": "3aabb237",
   "metadata": {},
   "outputs": [
    {
     "name": "stdout",
     "output_type": "stream",
     "text": [
      "Performing gradient check for parameter U with size 1000.\n"
     ]
    },
    {
     "name": "stderr",
     "output_type": "stream",
     "text": [
      "/var/folders/yy/pk8ymktn2997l12961d0jwnh0000gn/T/ipykernel_13289/3102754607.py:30: RuntimeWarning: invalid value encountered in double_scalars\n",
      "  relative_error = np.abs(backprop_gradient - estimated_gradient)/(np.abs(backprop_gradient) + np.abs(estimated_gradient))\n"
     ]
    },
    {
     "name": "stdout",
     "output_type": "stream",
     "text": [
      "Gradient check for parameter U passed.\n",
      "Performing gradient check for parameter V with size 1000.\n",
      "Gradient check for parameter V passed.\n",
      "Performing gradient check for parameter W with size 100.\n",
      "Gradient check for parameter W passed.\n"
     ]
    }
   ],
   "source": [
    "# To avoid performing millions of expensive calculations we use a smaller vocabulary size for checking.\n",
    "grad_check_vocab_size = 100\n",
    "np.random.seed(10)\n",
    "model = RNNVanilla(grad_check_vocab_size, 10, bptt_truncate=1000)\n",
    "model.gradient_check([0,1,2,3], [1,2,3,4])"
   ]
  },
  {
   "cell_type": "code",
   "execution_count": 17,
   "id": "a1e48076",
   "metadata": {},
   "outputs": [],
   "source": [
    "# Performs one step of SGD.\n",
    "def numpy_sdg_step(self, x, y, learning_rate):\n",
    "    # Calculate the gradients\n",
    "    dLdU, dLdV, dLdW = self.bptt(x, y)\n",
    "    # Change parameters according to gradients and learning rate\n",
    "    self.U -= learning_rate * dLdU\n",
    "    self.V -= learning_rate * dLdV\n",
    "    self.W -= learning_rate * dLdW\n",
    "    \n",
    "RNNVanilla.sgd_step = numpy_sdg_step"
   ]
  },
  {
   "cell_type": "code",
   "execution_count": 18,
   "id": "ce416b15",
   "metadata": {},
   "outputs": [],
   "source": [
    "# Outer SGD Loop\n",
    "# - model: The RNN model instance\n",
    "# - X_train: The training data set\n",
    "# - y_train: The training data labels\n",
    "# - learning_rate: Initial learning rate for SGD\n",
    "# - nepoch: Number of times to iterate through the complete dataset\n",
    "# - evaluate_loss_after: Evaluate the loss after this many epochs\n",
    "def train_with_sgd(model, X_train, y_train, learning_rate=0.01, nepoch=100, evaluate_loss_after=5):\n",
    "    # We keep track of the losses so we can plot them later\n",
    "    losses = []\n",
    "    num_examples_seen = 0\n",
    "    for epoch in range(nepoch):\n",
    "        # Optionally evaluate the loss\n",
    "        if (epoch % evaluate_loss_after == 0):\n",
    "            loss = model.calculate_loss(X_train, y_train)\n",
    "            losses.append((num_examples_seen, loss))\n",
    "            time = datetime.now().strftime('%Y-%m-%d %H:%M:%S')\n",
    "            print (\"%s: Loss after num_examples_seen=%d epoch=%d: %f\" % (time, num_examples_seen, epoch, loss))\n",
    "            # Adjust the learning rate if loss increases\n",
    "            if (len(losses) > 1 and losses[-1][1] > losses[-2][1]):\n",
    "                learning_rate = learning_rate * 0.5 \n",
    "                print (\"Setting learning rate to %f\" % learning_rate)\n",
    "            sys.stdout.flush()\n",
    "        # For each training example...\n",
    "        for i in range(len(y_train)):\n",
    "            # One SGD step\n",
    "            model.sgd_step(X_train[i], y_train[i], learning_rate)\n",
    "            num_examples_seen += 1\n",
    "    return losses"
   ]
  },
  {
   "cell_type": "code",
   "execution_count": 19,
   "id": "e66de166",
   "metadata": {},
   "outputs": [
    {
     "name": "stdout",
     "output_type": "stream",
     "text": [
      "2022-04-07 14:32:23: Loss after num_examples_seen=0 epoch=0: 4.324536\n",
      "2022-04-07 14:32:41: Loss after num_examples_seen=2000 epoch=4: 2.474720\n",
      "2022-04-07 14:32:57: Loss after num_examples_seen=4000 epoch=8: 2.378042\n",
      "2022-04-07 14:33:16: Loss after num_examples_seen=6000 epoch=12: 2.295962\n",
      "2022-04-07 14:33:36: Loss after num_examples_seen=8000 epoch=16: 2.187207\n"
     ]
    }
   ],
   "source": [
    "# Train our rnn model on a small subset of the data \n",
    "\n",
    "np.random.seed(10)\n",
    "model = RNNVanilla(vocabulary_size)\n",
    "losses = train_with_sgd(model, x[:500], y[:500], nepoch=20, evaluate_loss_after=4)"
   ]
  },
  {
   "cell_type": "code",
   "execution_count": 20,
   "id": "82b9ca28",
   "metadata": {},
   "outputs": [
    {
     "data": {
      "image/png": "[encoded data removed]",
      "text/plain": [
       "<Figure size 432x288 with 1 Axes>"
      ]
     },
     "metadata": {
      "needs_background": "light"
     },
     "output_type": "display_data"
    }
   ],
   "source": [
    "# Plotting a graph between the loss and number of epochs\n",
    "\n",
    "losses_array = np.asarray(losses)\n",
    "losses_array\n",
    "num_of_epochs = []\n",
    "loss_per_epoch = []\n",
    "for i in range(losses_array.shape[0]):\n",
    "    num_of_epochs.append((losses_array[i][0]/100))\n",
    "    loss_per_epoch.append(losses_array[i][1])\n",
    "    \n",
    "plt.plot(num_of_epochs,loss_per_epoch,marker ='o', markerfacecolor = 'red')\n",
    "plt.xlabel(\"epochs\")\n",
    "plt.ylabel(\"loss\")\n",
    "plt.show()"
   ]
  },
  {
   "cell_type": "code",
   "execution_count": 21,
   "id": "5924aaba",
   "metadata": {},
   "outputs": [
    {
     "name": "stdout",
     "output_type": "stream",
     "text": [
      "1   ld yhe allessiwath\n",
      "in callornm ua taly misinstimhidibe cal[ounicalloors a allathe wave iaelifllorov\n",
      "2   n weth\n",
      "]o the atrealitarcilleocc, inlliog at collicling to a ollyts liighe eamlint resèilionp. in o\n",
      "3   ry, itha hinling alighto the billoon ia acloegenazh in intlina\n",
      "o the bighins.0the li20 a\n",
      "bucacap al\n",
      "4   nd aosto:s calleavevaiont ost arheasevlist istaeancamire bith\n",
      "ohovelamkaacallathesig if lalkteliinc\n",
      "5   troangouith ity a apaeaweiac. inth atsivloint illfeltkinto a\n",
      "dathesuebcest rapevaideagale ald.gadpe\n",
      "6   nd iot, alafrouiatiwerot loyepauneet, a, e0selia to the ing!anseyratainlamo afreich.e bapaicesminil\n",
      "7   lloo the kelith, suseasishe in aslangericat ovemallurollay, hathaanded apesule\n",
      "balloonte nat. in ai\n",
      "8   nged hidesevallomatala\n",
      "tallelauc, at apanion? te lialioain wa ftougaiane of the, ntoraalweluvens th\n",
      "9   gitf oll a a iullalloone siteant ailio the folle irethespanathescaso a a fald, avelat\n",
      "wa la2n alift\n",
      "10   s aaleem kuin. the bild on the calllusteraghivean afe, atroingloon astibagaillone muss afreathe hai\n"
     ]
    }
   ],
   "source": [
    "# generating text using the model \n",
    "\n",
    "num_sentences = 10 # I am generating 10 sentences\n",
    "sentence_max_length = 100 # each sentence has max length of 100 characters \n",
    "\n",
    "def generate_sentence(model,sentence_max_length):\n",
    "    # We start the sentence with a random character here I have chosen 'a'\n",
    "    new_sentence = [char_to_index['a']]\n",
    "    i = 0\n",
    "    \n",
    "    # Repeat until we get a sentence of desired length\n",
    "    while i<sentence_max_length:\n",
    "        next_word_probs = model.forward_propagation(new_sentence)\n",
    "        next_word = next_word_probs[0]\n",
    "        samples = np.random.multinomial(1, next_word[-1])\n",
    "        sampled_word = np.argmax(samples)\n",
    "        new_sentence.append(sampled_word)\n",
    "        i = i+1\n",
    "    sentence_str = [index_to_char[x] for x in new_sentence[1:-1]]\n",
    "    return sentence_str\n",
    " \n",
    "    \n",
    "for i in range(num_sentences):\n",
    "    sent = []\n",
    "    sent = generate_sentence(model,sentence_max_length)\n",
    "    full = (\"\".join(sent))\n",
    "    print(i+1,\" \",full)\n",
    "    \n",
    "# generating 10 sentences with this model"
   ]
  },
  {
   "cell_type": "code",
   "execution_count": null,
   "id": "1aa1f6a5",
   "metadata": {},
   "outputs": [],
   "source": []
  }
 ],
 "metadata": {
  "kernelspec": {
   "display_name": "Python 3 (ipykernel)",
   "language": "python",
   "name": "python3"
  },
  "language_info": {
   "codemirror_mode": {
    "name": "ipython",
    "version": 3
   },
   "file_extension": ".py",
   "mimetype": "text/x-python",
   "name": "python",
   "nbconvert_exporter": "python",
   "pygments_lexer": "ipython3",
   "version": "3.9.0"
  }
 },
 "nbformat": 4,
 "nbformat_minor": 5
}
